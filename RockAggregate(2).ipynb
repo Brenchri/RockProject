{
 "cells": [
  {
   "cell_type": "markdown",
   "metadata": {},
   "source": [
    "# Open source modeling of rock aggregate resources in Finland"
   ]
  },
  {
   "cell_type": "code",
   "execution_count": 2,
   "metadata": {},
   "outputs": [],
   "source": [
    "import matplotlib.pyplot as plt\n",
    "import rasterio\n",
    "import rasterio.plot\n",
    "import fiona\n",
    "import geoplot\n",
    "import rasterio as rio\n",
    "import rasterio.plot "
   ]
  },
  {
   "cell_type": "markdown",
   "metadata": {},
   "source": [
    "## Preparation of the Data\n",
    "\n",
    "### 1. Script for unzipping "
   ]
  },
  {
   "cell_type": "code",
   "execution_count": 63,
   "metadata": {},
   "outputs": [
    {
     "name": "stdout",
     "output_type": "stream",
     "text": [
      "./data/rawdata/L4/L42/L4222R.shp.zip\n",
      "./data/rawdata/N3/N33/N3332L.shp.zip\n",
      "./data/rawdata/N3/N33/N3333L.shp.zip\n",
      "./data/rawdata/N3/N33/N3344L.shp.zip\n",
      "./data/rawdata/N3/N33/N3334R.shp.zip\n",
      "./data/rawdata/N3/N33/N3343R.shp.zip\n",
      "./data/rawdata/N3/N33/N3342R.shp.zip\n",
      "./data/rawdata/N3/N33/N3334L.shp.zip\n",
      "./data/rawdata/N3/N33/N3343L.shp.zip\n",
      "./data/rawdata/N3/N33/N3333R.shp.zip\n",
      "./data/rawdata/N3/N33/N3332R.shp.zip\n",
      "./data/rawdata/N3/N33/N3344R.shp.zip\n",
      "./data/rawdata/N3/N33/N3341R.shp.zip\n",
      "./data/rawdata/N3/N33/N3331R.shp.zip\n",
      "./data/rawdata/N3/N33/N3341L.shp.zip\n",
      "./data/rawdata/N3/N34/N3433R.shp.zip\n",
      "./data/rawdata/N3/N34/N3434R.shp.zip\n",
      "./data/rawdata/N3/N34/N3433L.shp.zip\n",
      "./data/rawdata/N3/N34/N3431R.shp.zip\n",
      "./data/rawdata/M3/M33/M3331R.shp.zip\n",
      "./data/rawdata/M3/M33/M3341L.shp.zip\n",
      "./data/rawdata/M3/M33/M3341R.shp.zip\n",
      "./data/rawdata/M3/M33/M3343L.shp.zip\n",
      "./data/rawdata/M3/M33/M3342L.shp.zip\n",
      "./data/rawdata/M3/M33/M3334L.shp.zip\n",
      "./data/rawdata/M3/M33/M3344R.shp.zip\n",
      "./data/rawdata/M3/M33/M3332R.shp.zip\n",
      "./data/rawdata/M3/M33/M3333R.shp.zip\n",
      "./data/rawdata/M3/M33/M3344L.shp.zip\n",
      "./data/rawdata/M3/M33/M3333L.shp.zip\n",
      "./data/rawdata/M3/M33/M3342R.shp.zip\n",
      "./data/rawdata/M3/M33/M3343R.shp.zip\n",
      "./data/rawdata/M3/M33/M3334R.shp.zip\n",
      "./data/rawdata/M3/M34/M3414R.shp.zip\n",
      "./data/rawdata/M3/M34/M3431L.shp.zip\n",
      "./data/rawdata/M3/M34/M3441R.shp.zip\n",
      "./data/rawdata/M3/M34/M3441L.shp.zip\n",
      "./data/rawdata/M3/M34/M3431R.shp.zip\n",
      "./data/rawdata/M3/M34/M3413R.shp.zip\n",
      "./data/rawdata/M3/M34/M3434R.shp.zip\n",
      "./data/rawdata/M3/M34/M3443R.shp.zip\n",
      "./data/rawdata/M3/M34/M3442R.shp.zip\n",
      "./data/rawdata/M3/M34/M3432L.shp.zip\n",
      "./data/rawdata/M3/M34/M3433L.shp.zip\n",
      "./data/rawdata/M3/M34/M3444L.shp.zip\n",
      "./data/rawdata/M3/M34/M3433R.shp.zip\n",
      "./data/rawdata/M3/M34/M3432R.shp.zip\n",
      "./data/rawdata/M3/M34/M3444R.shp.zip\n",
      "./data/rawdata/M3/M34/M3434L.shp.zip\n",
      "./data/rawdata/M3/M34/M3442L.shp.zip\n",
      "./data/rawdata/M3/M34/M3443L.shp.zip\n",
      "./data/rawdata/M4/M41/M4124R.shp.zip\n",
      "./data/rawdata/M4/M41/M4123L.shp.zip\n",
      "./data/rawdata/M4/M41/M4122L.shp.zip\n",
      "./data/rawdata/M4/M41/M4111R.shp.zip\n",
      "./data/rawdata/M4/M41/M4143L.shp.zip\n",
      "./data/rawdata/M4/M41/M4142L.shp.zip\n",
      "./data/rawdata/M4/M41/M4142R.shp.zip\n",
      "./data/rawdata/M4/M41/M4144L.shp.zip\n",
      "./data/rawdata/M4/M41/M4122R.shp.zip\n",
      "./data/rawdata/M4/M41/M4123R.shp.zip\n",
      "./data/rawdata/M4/M41/M4111L.shp.zip\n",
      "./data/rawdata/M4/M41/M4124L.shp.zip\n",
      "./data/rawdata/M4/M41/M4141L.shp.zip\n",
      "./data/rawdata/M4/M41/M4121L.shp.zip\n",
      "./data/rawdata/M4/M41/M4112R.shp.zip\n",
      "./data/rawdata/M4/M41/M4114L.shp.zip\n",
      "./data/rawdata/M4/M41/M4114R.shp.zip\n",
      "./data/rawdata/M4/M41/M4121R.shp.zip\n",
      "./data/rawdata/M4/M41/M4112L.shp.zip\n",
      "./data/rawdata/M4/M41/M4141R.shp.zip\n",
      "./data/rawdata/M4/M42/M4231L.shp.zip\n",
      "./data/rawdata/M4/M42/M4241R.shp.zip\n",
      "./data/rawdata/M4/M42/M4214R.shp.zip\n",
      "./data/rawdata/M4/M42/M4213L.shp.zip\n",
      "./data/rawdata/M4/M42/M4212L.shp.zip\n",
      "./data/rawdata/M4/M42/M4221R.shp.zip\n",
      "./data/rawdata/M4/M42/M4212R.shp.zip\n",
      "./data/rawdata/M4/M42/M4213R.shp.zip\n",
      "./data/rawdata/M4/M42/M4221L.shp.zip\n",
      "./data/rawdata/M4/M42/M4214L.shp.zip\n",
      "./data/rawdata/M4/M42/M4241L.shp.zip\n",
      "./data/rawdata/M4/M42/M4231R.shp.zip\n",
      "./data/rawdata/M4/M42/M4211L.shp.zip\n",
      "./data/rawdata/M4/M42/M4222R.shp.zip\n",
      "./data/rawdata/M4/M42/M4223R.shp.zip\n",
      "./data/rawdata/M4/M42/M4224L.shp.zip\n",
      "./data/rawdata/M4/M42/M4242R.shp.zip\n",
      "./data/rawdata/M4/M42/M4244L.shp.zip\n",
      "./data/rawdata/M4/M42/M4233L.shp.zip\n",
      "./data/rawdata/M4/M42/M4232L.shp.zip\n",
      "./data/rawdata/M4/M42/M4232R.shp.zip\n",
      "./data/rawdata/M4/M42/M4243L.shp.zip\n",
      "./data/rawdata/M4/M42/M4242L.shp.zip\n",
      "./data/rawdata/M4/M42/M4234L.shp.zip\n",
      "./data/rawdata/M4/M42/M4224R.shp.zip\n",
      "./data/rawdata/M4/M42/M4211R.shp.zip\n",
      "./data/rawdata/M4/M42/M4223L.shp.zip\n",
      "./data/rawdata/M4/M42/M4222L.shp.zip\n"
     ]
    }
   ],
   "source": [
    "#Script for unzipping the datasets\n",
    "import zipfile,fnmatch,os\n",
    "\n",
    "rootPath = r\"./data/rawdata\"\n",
    "\n",
    "pattern = '*.zip'\n",
    "\n",
    "for root, dirs, files in os.walk(rootPath):\n",
    "\n",
    "    for filename in fnmatch.filter(files, pattern):\n",
    "\n",
    "        print(os.path.join(root, filename))\n",
    "\n",
    "        zipfile.ZipFile(os.path.join(root, filename)).extractall(os.path.join(root, filename.split(\".\")[0]))"
   ]
  },
  {
   "cell_type": "code",
   "execution_count": 6,
   "metadata": {},
   "outputs": [],
   "source": [
    "%matplotlib inline "
   ]
  },
  {
   "cell_type": "code",
   "execution_count": 1,
   "metadata": {},
   "outputs": [
    {
     "ename": "FileNotFoundError",
     "evalue": "[Errno 2] No such file or directory: 'L4-20190328T082445Z-001.zip'",
     "output_type": "error",
     "traceback": [
      "\u001b[0;31m---------------------------------------------------------------------------\u001b[0m",
      "\u001b[0;31mFileNotFoundError\u001b[0m                         Traceback (most recent call last)",
      "\u001b[0;32m<ipython-input-1-259ab9322366>\u001b[0m in \u001b[0;36m<module>\u001b[0;34m\u001b[0m\n\u001b[1;32m      2\u001b[0m \u001b[0;34m\u001b[0m\u001b[0m\n\u001b[1;32m      3\u001b[0m \u001b[0;32mimport\u001b[0m \u001b[0mzipfile\u001b[0m\u001b[0;34m\u001b[0m\u001b[0;34m\u001b[0m\u001b[0m\n\u001b[0;32m----> 4\u001b[0;31m \u001b[0mzip_ref\u001b[0m \u001b[0;34m=\u001b[0m \u001b[0mzipfile\u001b[0m\u001b[0;34m.\u001b[0m\u001b[0mZipFile\u001b[0m\u001b[0;34m(\u001b[0m\u001b[0;34m\"L4-20190328T082445Z-001.zip\"\u001b[0m\u001b[0;34m,\u001b[0m \u001b[0;34m'r'\u001b[0m\u001b[0;34m)\u001b[0m\u001b[0;34m\u001b[0m\u001b[0;34m\u001b[0m\u001b[0m\n\u001b[0m\u001b[1;32m      5\u001b[0m \u001b[0mzip_ref\u001b[0m\u001b[0;34m.\u001b[0m\u001b[0mextractall\u001b[0m\u001b[0;34m(\u001b[0m\u001b[0;34m\".\"\u001b[0m\u001b[0;34m)\u001b[0m\u001b[0;34m\u001b[0m\u001b[0;34m\u001b[0m\u001b[0m\n\u001b[1;32m      6\u001b[0m \u001b[0mzip_ref\u001b[0m\u001b[0;34m.\u001b[0m\u001b[0mclose\u001b[0m\u001b[0;34m(\u001b[0m\u001b[0;34m)\u001b[0m\u001b[0;34m\u001b[0m\u001b[0;34m\u001b[0m\u001b[0m\n",
      "\u001b[0;32m/anaconda3/envs/TEST/lib/python3.7/zipfile.py\u001b[0m in \u001b[0;36m__init__\u001b[0;34m(self, file, mode, compression, allowZip64, compresslevel)\u001b[0m\n\u001b[1;32m   1202\u001b[0m             \u001b[0;32mwhile\u001b[0m \u001b[0;32mTrue\u001b[0m\u001b[0;34m:\u001b[0m\u001b[0;34m\u001b[0m\u001b[0;34m\u001b[0m\u001b[0m\n\u001b[1;32m   1203\u001b[0m                 \u001b[0;32mtry\u001b[0m\u001b[0;34m:\u001b[0m\u001b[0;34m\u001b[0m\u001b[0;34m\u001b[0m\u001b[0m\n\u001b[0;32m-> 1204\u001b[0;31m                     \u001b[0mself\u001b[0m\u001b[0;34m.\u001b[0m\u001b[0mfp\u001b[0m \u001b[0;34m=\u001b[0m \u001b[0mio\u001b[0m\u001b[0;34m.\u001b[0m\u001b[0mopen\u001b[0m\u001b[0;34m(\u001b[0m\u001b[0mfile\u001b[0m\u001b[0;34m,\u001b[0m \u001b[0mfilemode\u001b[0m\u001b[0;34m)\u001b[0m\u001b[0;34m\u001b[0m\u001b[0;34m\u001b[0m\u001b[0m\n\u001b[0m\u001b[1;32m   1205\u001b[0m                 \u001b[0;32mexcept\u001b[0m \u001b[0mOSError\u001b[0m\u001b[0;34m:\u001b[0m\u001b[0;34m\u001b[0m\u001b[0;34m\u001b[0m\u001b[0m\n\u001b[1;32m   1206\u001b[0m                     \u001b[0;32mif\u001b[0m \u001b[0mfilemode\u001b[0m \u001b[0;32min\u001b[0m \u001b[0mmodeDict\u001b[0m\u001b[0;34m:\u001b[0m\u001b[0;34m\u001b[0m\u001b[0;34m\u001b[0m\u001b[0m\n",
      "\u001b[0;31mFileNotFoundError\u001b[0m: [Errno 2] No such file or directory: 'L4-20190328T082445Z-001.zip'"
     ]
    }
   ],
   "source": [
    "# Script for unzipping the folders\n",
    "\n",
    "import zipfile\n",
    "zip_ref = zipfile.ZipFile(\"L4-20190328T082445Z-001.zip\", 'r')\n",
    "zip_ref.extractall(\".\")\n",
    "zip_ref.close()"
   ]
  },
  {
   "cell_type": "code",
   "execution_count": 3,
   "metadata": {},
   "outputs": [
    {
     "name": "stdout",
     "output_type": "stream",
     "text": [
      "[Errno 2] No such file or directory: 'RockProject/'\n",
      "/Users/christophbrendel/RockProject\n"
     ]
    }
   ],
   "source": [
    "%cd RockProject/"
   ]
  },
  {
   "cell_type": "markdown",
   "metadata": {},
   "source": [
    "### 2. Sorting of the data"
   ]
  },
  {
   "cell_type": "code",
   "execution_count": 4,
   "metadata": {},
   "outputs": [],
   "source": [
    "# Sorting script for the NLS Data \n",
    "\n",
    "import os\n",
    "import shutil\n",
    "\n",
    "fullpath = os.path.join\n",
    "\n",
    "# bufflayers_directory = \"./data/bufflayers\"\n",
    "\n",
    "buildings = \"./data/bufflayers/Buildings\"\n",
    "pipelines = \"./data/bufflayers/Pipelines\"\n",
    "protected = \"./data/bufflayers/Protected\"\n",
    "special = \"./data/bufflayers/Special\"\n",
    "traffic = \"./data/bufflayers/Traffic\"\n",
    "water = \"./data/bufflayers/Water\"\n",
    "warehouse = \"./data/bufflayers/Warehouse\"\n",
    "rawdata_directory = \"./data/rawdata/M3\"\n",
    "useless_files = \"./data/useless\"\n",
    "\n",
    "# function that sorts the needed layers for buffering and useless layers from our dataset \n",
    "# it's sorting the files based on the description code \n",
    "\n",
    "def main():\n",
    "    for dirname, dirnames, filenames in os.walk(rawdata_directory):\n",
    "        for filename in filenames:\n",
    "            source = fullpath(dirname, filename)\n",
    "            if filename.startswith(\"l_\"):\n",
    "                shutil.move(source, fullpath(traffic, filename))\n",
    "            elif filename.startswith(\"j_\"):\n",
    "                shutil.move(source, fullpath(pipelines, filename))\n",
    "            elif filename.startswith(\"r_\"):\n",
    "                shutil.move(source, fullpath(buildings, filename))\n",
    "            elif filename.startswith(\"s_\"):\n",
    "                shutil.move(source, fullpath(buildings, filename))\n",
    "            elif filename.startswith(\"e_\"):\n",
    "                shutil.move(source, fullpath(special, filename))\n",
    "            elif filename.startswith(\"m_\"):\n",
    "                shutil.move(source, fullpath(water, filename))\n",
    "            elif filename.startswith(\"n_\"):\n",
    "                shutil.move(source, fullpath(warehouse, filename))\n",
    "            elif filename.startswith(\"s_\"):\n",
    "                shutil.move(source, fullpath(protected, filename))          \n",
    "            elif filename.startswith(\"s_\"):\n",
    "                shutil.move(source, fullpath(protected, filename))         \n",
    "            \n",
    "if __name__ == \"__main__\":\n",
    "    main()\n",
    "# execution of the function below\n",
    "main()"
   ]
  },
  {
   "cell_type": "code",
   "execution_count": null,
   "metadata": {},
   "outputs": [],
   "source": [
    "# Merging the shapefiles\n",
    "\n",
    "import pathlib as path\n",
    "import pandas \n",
    "import geopandas as gpd\n",
    "\n",
    "folder = path.Path(\"./data/bufflayers/Buildings\")\n",
    "destination = path.Path(\"./data/bufflayers/Merged\")\n",
    "shapefiles = folder.glob(\"*p.shp\")\n",
    "gdf = pandas.concat([\n",
    "    gpd.read_file(shp)\n",
    "    for shp in shapefiles\n",
    "]).pipe(gpd.GeoDataFrame)\n",
    "gdf.to_file(destination / 'buildings.shp')"
   ]
  },
  {
   "cell_type": "code",
   "execution_count": null,
   "metadata": {},
   "outputs": [],
   "source": [
    "# Sources of the merged shapefiles\n",
    "pipeline_source = \"./data/bufflayers/Merged/pipelines.shp\"\n",
    "compiled_pipes = gpd.read_file(pipeline_source)\n",
    "\n",
    "water_source = \"./data/bufflayers/Merged/water.shp\"\n",
    "compiled_water = gpd.read_file(water_source)"
   ]
  },
  {
   "cell_type": "code",
   "execution_count": null,
   "metadata": {},
   "outputs": [],
   "source": [
    "compiled_pipes['geometry'] = compiled_pipes.geometry.buffer(200)\n",
    "compiled_water['geometry'] = compiled_water.geometry.buffer(500)"
   ]
  },
  {
   "cell_type": "code",
   "execution_count": null,
   "metadata": {},
   "outputs": [],
   "source": [
    "poly = df.geometry.unary_union\n",
    "points_clip = compiled_pipes[compiled_pipes.geometry.intersects(poly)]\n",
    "\n",
    "water_clip = compiled_water[compiled_water.geometry.intersects(poly)]"
   ]
  },
  {
   "cell_type": "code",
   "execution_count": null,
   "metadata": {},
   "outputs": [],
   "source": [
    "%matplotlib inline"
   ]
  },
  {
   "cell_type": "code",
   "execution_count": null,
   "metadata": {},
   "outputs": [],
   "source": [
    "#plotting\n",
    "\n",
    "mun = \"./data/Muncipiality/Muncipiality.shp\"\n",
    "#top = \"./data/bufflayers/Pipelines/compiled.shp\"\n",
    "#elev = \"./data/Elevation/M4212.tif\"\n",
    "\n",
    "\n",
    "\n",
    "\n",
    "#elevplot = rio.open(elev)\n",
    "df = gpd.read_file(mun)\n",
    "#df2 = gpd.read_file(top)\n",
    "plt.rcParams['figure.figsize'] = (8, 8)\n",
    "\n",
    "fig, ax = plt.subplots(figsize=(50,50))\n",
    "\n",
    "# rio.plot.show(elevplot, ax=ax)\n",
    "df.plot(ax=ax,facecolor='none', edgecolor='black')\n",
    "\n",
    "#points_clip.plot(ax=ax)\n",
    "\n"
   ]
  },
  {
   "cell_type": "markdown",
   "metadata": {},
   "source": [
    "### 3."
   ]
  }
 ],
 "metadata": {
  "kernelspec": {
   "display_name": "Python 3",
   "language": "python",
   "name": "python3"
  },
  "language_info": {
   "codemirror_mode": {
    "name": "ipython",
    "version": 3
   },
   "file_extension": ".py",
   "mimetype": "text/x-python",
   "name": "python",
   "nbconvert_exporter": "python",
   "pygments_lexer": "ipython3",
   "version": "3.7.1"
  }
 },
 "nbformat": 4,
 "nbformat_minor": 2
}
